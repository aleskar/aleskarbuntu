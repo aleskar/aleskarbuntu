{
  "nbformat": 4,
  "nbformat_minor": 0,
  "metadata": {
    "colab": {
      "name": "Colab code snippets.ipynb",
      "version": "0.3.2",
      "provenance": [],
      "collapsed_sections": [],
      "toc_visible": true,
      "include_colab_link": true
    },
    "kernelspec": {
      "name": "python3",
      "display_name": "Python 3"
    }
  },
  "cells": [
    {
      "cell_type": "markdown",
      "metadata": {
        "id": "view-in-github",
        "colab_type": "text"
      },
      "source": [
        "[View in Colaboratory](https://colab.research.google.com/github/aleskar/aleskarbuntu/blob/master/Colab_code_snippets.ipynb)"
      ]
    },
    {
      "metadata": {
        "id": "DxiafS0vMsmt",
        "colab_type": "text"
      },
      "cell_type": "markdown",
      "source": [
        "# Useful code snippets!"
      ]
    },
    {
      "metadata": {
        "id": "RP3op__0Hg67",
        "colab_type": "text"
      },
      "cell_type": "markdown",
      "source": [
        "# Downloading files or importing data from Google Drive\n",
        "\n",
        "[PyDrive reference](https://googledrive.github.io/PyDrive/docs/build/html/index.html)\n",
        "\n",
        "[Google Drive API reference](https://developers.google.com/drive/v3/reference/)"
      ]
    },
    {
      "metadata": {
        "id": "0tOovtE0HbK-",
        "colab_type": "code",
        "colab": {}
      },
      "cell_type": "code",
      "source": [
        "# Install the PyDrive wrapper & import libraries.\n",
        "# This only needs to be done once per notebook.\n",
        "!pip install -U -q PyDrive\n",
        "from pydrive.auth import GoogleAuth\n",
        "from pydrive.drive import GoogleDrive\n",
        "from google.colab import auth\n",
        "from oauth2client.client import GoogleCredentials\n",
        "\n",
        "# Authenticate and create the PyDrive client.\n",
        "# This only needs to be done once per notebook.\n",
        "auth.authenticate_user()\n",
        "gauth = GoogleAuth()\n",
        "gauth.credentials = GoogleCredentials.get_application_default()\n",
        "drive = GoogleDrive(gauth)\n",
        "\n",
        "# Download a file based on its file ID.\n",
        "#\n",
        "# A file ID looks like: laggVyWshwcyP6kEI-y_W3P8D26sz\n",
        "file_id = 'REPLACE_WITH_YOUR_FILE_ID'\n",
        "downloaded = drive.CreateFile({'id': file_id})\n",
        "print('Downloaded content \"{}\"'.format(downloaded.GetContentString()))"
      ],
      "execution_count": 0,
      "outputs": []
    },
    {
      "metadata": {
        "id": "cEr8HHlrIQrR",
        "colab_type": "text"
      },
      "cell_type": "markdown",
      "source": [
        "# Importing a library that is not on Colaboratory"
      ]
    },
    {
      "metadata": {
        "id": "uEu68JdlIbpI",
        "colab_type": "code",
        "colab": {}
      },
      "cell_type": "code",
      "source": [
        "!pip install -q matplotlib-venn"
      ],
      "execution_count": 0,
      "outputs": []
    },
    {
      "metadata": {
        "id": "zaqf3810IbqN",
        "colab_type": "code",
        "colab": {}
      },
      "cell_type": "code",
      "source": [
        "!apt-get -qq install -y libfluidsynth1"
      ],
      "execution_count": 0,
      "outputs": []
    },
    {
      "metadata": {
        "id": "a1J64SmTI6EH",
        "colab_type": "text"
      },
      "cell_type": "markdown",
      "source": [
        "# Importing data using gsutil\n",
        "- Use the  [Cloud Resource Manager](https://pantheon.corp.google.com/cloud-resource-manager) to create a project if you do not already have one.  In my case I'm using my project: **aleskar** on google cloud\n",
        "\n",
        "- See  [Google Cloud Storage (GCS) Documentation](https://cloud.google.com/storage/) for more info."
      ]
    },
    {
      "metadata": {
        "id": "Byjy3bcHI2Od",
        "colab_type": "code",
        "colab": {}
      },
      "cell_type": "code",
      "source": [
        "from google.colab import auth\n",
        "auth.authenticate_user()\n",
        "\n",
        "# https://cloud.google.com/resource-manager/docs/creating-managing-projects\n",
        "project_id = '[your Cloud Platform project ID]'\n",
        "!gcloud config set project {project_id}"
      ],
      "execution_count": 0,
      "outputs": []
    },
    {
      "metadata": {
        "id": "FLsnnUnoI2Pd",
        "colab_type": "code",
        "colab": {}
      },
      "cell_type": "code",
      "source": [
        "# Download the file from a given Google Cloud Storage bucket.\n",
        "!gsutil cp gs://{bucket_name}/file_to_download.txt /tmp/gsutil_download.txt\n",
        "  \n",
        "# Print the result to make sure the transfer worked.\n",
        "!cat /tmp/gsutil_download.txt"
      ],
      "execution_count": 0,
      "outputs": []
    },
    {
      "metadata": {
        "id": "aC-WgXu_J3cU",
        "colab_type": "text"
      },
      "cell_type": "markdown",
      "source": [
        "# Importing data from Google Sheets"
      ]
    },
    {
      "metadata": {
        "id": "36VR490iJ6Jc",
        "colab_type": "code",
        "colab": {}
      },
      "cell_type": "code",
      "source": [
        "!pip install --upgrade -q gspread"
      ],
      "execution_count": 0,
      "outputs": []
    },
    {
      "metadata": {
        "id": "XmWlZGzWJ6LP",
        "colab_type": "code",
        "colab": {}
      },
      "cell_type": "code",
      "source": [
        "from google.colab import auth\n",
        "auth.authenticate_user()\n",
        "\n",
        "import gspread\n",
        "from oauth2client.client import GoogleCredentials\n",
        "\n",
        "gc = gspread.authorize(GoogleCredentials.get_application_default())\n",
        "\n",
        "worksheet = gc.open('Your spreadsheet name').sheet1\n",
        "\n",
        "# get_all_values gives a list of rows.\n",
        "rows = worksheet.get_all_values()\n",
        "print(rows)\n",
        "\n",
        "# Convert to a DataFrame and render.\n",
        "import pandas as pd\n",
        "pd.DataFrame.from_records(rows)"
      ],
      "execution_count": 0,
      "outputs": []
    },
    {
      "metadata": {
        "id": "huGECgZ4KJZp",
        "colab_type": "text"
      },
      "cell_type": "markdown",
      "source": [
        "# Importing data using the Cloud Storage Python API\n",
        "\n",
        "- Use the  [Cloud Resource Manager](https://pantheon.corp.google.com/cloud-resource-manager )to create a project if you do not already have one.  In my case, I'm using project **aleskar**\n",
        "\n",
        "- See  [Google Cloud Storage (GCS) Documentation](https://cloud.google.com/storage/ )for more info.\n",
        "You can also use gsutil to interact with Google Cloud Storage (GCS). This snippet is based on a larger example."
      ]
    },
    {
      "metadata": {
        "id": "bQRdvyXiKRYK",
        "colab_type": "code",
        "colab": {}
      },
      "cell_type": "code",
      "source": [
        "# Authenticate to GCS.\n",
        "from google.colab import auth\n",
        "auth.authenticate_user()\n",
        "\n",
        "# https://cloud.google.com/resource-manager/docs/creating-managing-projects\n",
        "project_id = '[your Cloud Platform project ID]'\n",
        "\n",
        "# Create the service client.\n",
        "from googleapiclient.discovery import build\n",
        "gcs_service = build('storage', 'v1')\n",
        "\n",
        "from apiclient.http import MediaIoBaseDownload\n",
        "\n",
        "with open('/tmp/gsutil_download.txt', 'wb') as f:\n",
        "  # Download the file from a given Google Cloud Storage bucket.\n",
        "  request = gcs_service.objects().get_media(bucket=bucket_name,\n",
        "                                            object='to_upload.txt')\n",
        "  media = MediaIoBaseDownload(f, request)\n",
        "\n",
        "  done = False\n",
        "  while not done:\n",
        "    # _ is a placeholder for a progress object that we ignore.\n",
        "    # (Our file is small, so we skip reporting progress.)\n",
        "    _, done = media.next_chunk()        \n",
        "  \n",
        "print('Download complete')"
      ],
      "execution_count": 0,
      "outputs": []
    },
    {
      "metadata": {
        "id": "SRT8fo6fKRZn",
        "colab_type": "code",
        "colab": {}
      },
      "cell_type": "code",
      "source": [
        "# Inspect the file we downloaded to /tmp\n",
        "!cat /tmp/downloaded_from_gcs.txt"
      ],
      "execution_count": 0,
      "outputs": []
    },
    {
      "metadata": {
        "id": "XismaeTeLKqS",
        "colab_type": "text"
      },
      "cell_type": "markdown",
      "source": [
        "# Pytorch and using Tensors\n",
        "\n",
        "If you want to go the route of using Tensors, versus using numpy, in the event that you want to tap into the GPU to accelerate computing perfromance.\n",
        "\n",
        "[What is pytorch?](https://pytorch.org/tutorials/beginner/blitz/tensor_tutorial.html)\n",
        "\n",
        "Install [pytorch](http://pytorch.org/)\n",
        "\n"
      ]
    },
    {
      "metadata": {
        "id": "vwjoKgXgL1Wv",
        "colab_type": "code",
        "colab": {}
      },
      "cell_type": "code",
      "source": [
        "# http://pytorch.org/\n",
        "from os import path\n",
        "from wheel.pep425tags import get_abbr_impl, get_impl_ver, get_abi_tag\n",
        "platform = '{}{}-{}'.format(get_abbr_impl(), get_impl_ver(), get_abi_tag())\n",
        "\n",
        "accelerator = 'cu80' if path.exists('/opt/bin/nvidia-smi') else 'cpu'\n",
        "\n",
        "!pip install -q http://download.pytorch.org/whl/{accelerator}/torch-0.3.0.post4-{platform}-linux_x86_64.whl torchvision\n",
        "import torch"
      ],
      "execution_count": 0,
      "outputs": []
    },
    {
      "metadata": {
        "id": "-XNZaInJL7NO",
        "colab_type": "text"
      },
      "cell_type": "markdown",
      "source": [
        "# Install 7zip reader \n",
        "[libarchive](https://pypi.python.org/pypi/libarchive)"
      ]
    },
    {
      "metadata": {
        "id": "7rJfBoDxL-eX",
        "colab_type": "code",
        "colab": {}
      },
      "cell_type": "code",
      "source": [
        "# https://pypi.python.org/pypi/libarchive\n",
        "!apt-get -qq install -y libarchive-dev && pip install -q -U libarchive\n",
        "import libarchive"
      ],
      "execution_count": 0,
      "outputs": []
    },
    {
      "metadata": {
        "id": "V6YG7lZZM6Vb",
        "colab_type": "text"
      },
      "cell_type": "markdown",
      "source": [
        "# Uploading files from your local file system\n",
        "\n",
        "`files.upload` returns a dictionary of the files which were uploaded. The dictionary is keyed by the file name, the value is the data which was uploaded."
      ]
    },
    {
      "metadata": {
        "id": "MUq58RifM9CU",
        "colab_type": "code",
        "colab": {}
      },
      "cell_type": "code",
      "source": [
        "from google.colab import files\n",
        "\n",
        "uploaded = files.upload()\n",
        "\n",
        "for fn in uploaded.keys():\n",
        "  print('User uploaded file \"{name}\" with length {length} bytes'.format(\n",
        "      name=fn, length=len(uploaded[fn])))"
      ],
      "execution_count": 0,
      "outputs": []
    }
  ]
}